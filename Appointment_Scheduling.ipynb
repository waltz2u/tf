{
  "nbformat": 4,
  "nbformat_minor": 0,
  "metadata": {
    "colab": {
      "name": "Appointment Scheduling.ipynb",
      "provenance": [],
      "collapsed_sections": [],
      "authorship_tag": "ABX9TyOPcg8VjhXkqnw3irtAR/bc",
      "include_colab_link": true
    },
    "kernelspec": {
      "name": "python3",
      "display_name": "Python 3"
    }
  },
  "cells": [
    {
      "cell_type": "markdown",
      "metadata": {
        "id": "view-in-github",
        "colab_type": "text"
      },
      "source": [
        "<a href=\"https://colab.research.google.com/github/waltz2u/oop/blob/master/Appointment_Scheduling.ipynb\" target=\"_parent\"><img src=\"https://colab.research.google.com/assets/colab-badge.svg\" alt=\"Open In Colab\"/></a>"
      ]
    },
    {
      "cell_type": "markdown",
      "metadata": {
        "id": "RCyZVn42or4p",
        "colab_type": "text"
      },
      "source": [
        "Supposing that we have a very simple add function which return the sum of two integer.\n",
        "\n",
        "We create a unit test"
      ]
    },
    {
      "cell_type": "code",
      "metadata": {
        "id": "wEsQIfrgnAm7",
        "colab_type": "code",
        "colab": {}
      },
      "source": [
        "class Customer(object):\n",
        "  customers = []\n",
        "  def __init__(self, name, id, age):\n",
        "    self.name = name\n",
        "    self.id = id\n",
        "    self.__age = age\n",
        "    Customer.customers.append(self)"
      ],
      "execution_count": 0,
      "outputs": []
    },
    {
      "cell_type": "code",
      "metadata": {
        "id": "ZqO0Z2lxuHwc",
        "colab_type": "code",
        "outputId": "64cafdcf-3868-4604-e06b-d7115b475ab4",
        "colab": {
          "base_uri": "https://localhost:8080/",
          "height": 121
        }
      },
      "source": [
        "import unittest\n",
        "\n",
        "class Appointment:\n",
        "  appointments = []\n",
        "  capacity = 2\n",
        "  def __init__(self):\n",
        "    self.id = None\n",
        "    self.time = None\n",
        "\n",
        "  def setAppointment(self, id, time):\n",
        "    found = False\n",
        "    conflict = False\n",
        "    count = 0\n",
        "\n",
        "    for appt in Appointment.appointments:\n",
        "      if appt.time == time and appt.id != id:\n",
        "        count += 1\n",
        "\n",
        "    if count > Appointment.capacity:\n",
        "      conflict = True\n",
        "      print(\"The time slot is full\")\n",
        "\n",
        "    for appt in Appointment.appointments:\n",
        "      if appt.id == id:\n",
        "        print(\"You have had an appointment\")\n",
        "        appt.time = time\n",
        "        found = True\n",
        "\n",
        "    if not found and not conflict:\n",
        "      self.id = id\n",
        "      self.time = time\n",
        "      Appointment.appointments.append(self)\n",
        "    \n",
        "    return (found, conflict, len(Appointment.appointments))\n",
        "\n",
        "  def cancelAppointment(self, id, time):\n",
        "    found = False\n",
        "    for appt in Appointment.appointments:\n",
        "      if appt.id == id and appt.time == time:\n",
        "        Appointment.appointments.remove(appt)\n",
        "        print(\"You have canceled the appointment\")\n",
        "        found = True\n",
        "\n",
        "    if not found:\n",
        "      print(\"The appointment or customer id is not found\")\n",
        "\n",
        "    return (found, len(Appointment.appointments))\n",
        "\n",
        "  def changeAppointment(self, id, time, newtime):\n",
        "    found = False\n",
        "    conflict = False\n",
        "    count = 0\n",
        "    for appt in Appointment.appointments:\n",
        "      if appt.time == newtime and appt.id != id:\n",
        "        count += 1\n",
        "    if count > Appointment.capacity:\n",
        "      conflict = True\n",
        "      print(\"The time slot is full\")\n",
        "\n",
        "    for appt in Appointment.appointments:\n",
        "      if appt.id == id and appt.time == time and not conflict:\n",
        "        appt.time = newtime\n",
        "        print(\"You have changed the appointment\")\n",
        "        found = True\n",
        "\n",
        "    if not found:\n",
        "      print(\"The appointment or customer id is not found\")\n",
        "\n",
        "    return (found, conflict, len(Appointment.appointments))\n",
        "\n",
        "class Test(unittest.TestCase):\n",
        "    def testSetAppt_1(self):\n",
        "        cust_x = Customer(\"John\", 1, 20)\n",
        "        appt_x = Appointment()\n",
        "        self.assertEqual(appt_x.setAppointment(cust_x.id,20),(False, False, 1))\n",
        "        \n",
        "    def testSetAppt_2(self):\n",
        "        cust_x = Customer(\"John\", 1, 20)\n",
        "        appt_x = Appointment()\n",
        "        self.assertEqual(appt_x.setAppointment(cust_x.id,20),(True, False, 1))\n",
        "\n",
        "    def testSetAppt_3(self):\n",
        "        cust_x = Customer(\"Jane\", 2, 25)\n",
        "        appt_x = Appointment()\n",
        "        self.assertEqual(appt_x.setAppointment(cust_x.id,20),(False, False, 2))\n",
        "\n",
        "if __name__ == '__main__':\n",
        "    # https://medium.com/@vladbezden/using-python-unittest-in-ipython-or-jupyter-732448724e31\n",
        "    unittest.main(argv=['first-arg-is-ignored'], exit=False)\n"
      ],
      "execution_count": 0,
      "outputs": [
        {
          "output_type": "stream",
          "text": [
            "..."
          ],
          "name": "stderr"
        },
        {
          "output_type": "stream",
          "text": [
            "You have had an appointment\n"
          ],
          "name": "stdout"
        },
        {
          "output_type": "stream",
          "text": [
            "\n",
            "----------------------------------------------------------------------\n",
            "Ran 3 tests in 0.003s\n",
            "\n",
            "OK\n"
          ],
          "name": "stderr"
        }
      ]
    }
  ]
}