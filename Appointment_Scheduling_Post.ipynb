{
  "nbformat": 4,
  "nbformat_minor": 0,
  "metadata": {
    "colab": {
      "name": "Appointment Scheduling Post.ipynb",
      "provenance": [],
      "collapsed_sections": [],
      "authorship_tag": "ABX9TyOscEnk3fQAfIufwy62xxhS",
      "include_colab_link": true
    },
    "kernelspec": {
      "name": "python3",
      "display_name": "Python 3"
    }
  },
  "cells": [
    {
      "cell_type": "markdown",
      "metadata": {
        "id": "view-in-github",
        "colab_type": "text"
      },
      "source": [
        "<a href=\"https://colab.research.google.com/github/waltz2u/oop/blob/master/Appointment_Scheduling_Post.ipynb\" target=\"_parent\"><img src=\"https://colab.research.google.com/assets/colab-badge.svg\" alt=\"Open In Colab\"/></a>"
      ]
    },
    {
      "cell_type": "code",
      "metadata": {
        "id": "wEsQIfrgnAm7",
        "colab_type": "code",
        "colab": {}
      },
      "source": [
        "class Customer(object):\n",
        "  customers = []\n",
        "  def __init__(self, name, id, age):\n",
        "    self.name = name\n",
        "    self.id = id\n",
        "    self.__age = age\n",
        "    Customer.customers.append(self)"
      ],
      "execution_count": 0,
      "outputs": []
    },
    {
      "cell_type": "code",
      "metadata": {
        "id": "ZqO0Z2lxuHwc",
        "colab_type": "code",
        "outputId": "64cafdcf-3868-4604-e06b-d7115b475ab4",
        "colab": {
          "base_uri": "https://localhost:8080/",
          "height": 121
        }
      },
      "source": [
        "import unittest\n",
        "\n",
        "class Appointment:\n",
        "  appointments = []\n",
        "  capacity = 2\n",
        "  def __init__(self):\n",
        "    self.id = None\n",
        "    self.time = None\n",
        "\n",
        "  def setAppointment(self, id, time):\n",
        "    # Write your code here\n",
        "\n",
        "  def changeAppointment(self, id, time, newtime):\n",
        "    # Write your code here\n",
        "\n",
        "  def cancelAppointment(self, id, time):\n",
        "     # Write your code here\n",
        "\n",
        "class Test(unittest.TestCase):\n",
        "     # Write your code here\n",
        "\n",
        "        \n",
        "\n",
        "if __name__ == '__main__':\n",
        "    # https://medium.com/@vladbezden/using-python-unittest-in-ipython-or-jupyter-732448724e31\n",
        "    unittest.main(argv=['first-arg-is-ignored'], exit=False)\n"
      ],
      "execution_count": 0,
      "outputs": [
        {
          "output_type": "stream",
          "text": [
            "..."
          ],
          "name": "stderr"
        },
        {
          "output_type": "stream",
          "text": [
            "You have had an appointment\n"
          ],
          "name": "stdout"
        },
        {
          "output_type": "stream",
          "text": [
            "\n",
            "----------------------------------------------------------------------\n",
            "Ran 3 tests in 0.003s\n",
            "\n",
            "OK\n"
          ],
          "name": "stderr"
        }
      ]
    }
  ]
}