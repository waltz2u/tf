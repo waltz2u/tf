{
  "nbformat": 4,
  "nbformat_minor": 0,
  "metadata": {
    "colab": {
      "name": "OOP.ipynb",
      "provenance": [],
      "collapsed_sections": [],
      "authorship_tag": "ABX9TyOzEMEQiJMN4ygpD1+HD70/",
      "include_colab_link": true
    },
    "kernelspec": {
      "name": "python3",
      "display_name": "Python 3"
    }
  },
  "cells": [
    {
      "cell_type": "markdown",
      "metadata": {
        "id": "view-in-github",
        "colab_type": "text"
      },
      "source": [
        "<a href=\"https://colab.research.google.com/github/waltz2u/oop/blob/master/OOP.ipynb\" target=\"_parent\"><img src=\"https://colab.research.google.com/assets/colab-badge.svg\" alt=\"Open In Colab\"/></a>"
      ]
    },
    {
      "cell_type": "markdown",
      "metadata": {
        "id": "y9IdjZGRpnWW",
        "colab_type": "text"
      },
      "source": [
        "## Base class"
      ]
    },
    {
      "cell_type": "code",
      "metadata": {
        "id": "BbVEqXlfoOf2",
        "colab_type": "code",
        "outputId": "b3b47120-9e55-421e-fea4-78a1564ef86e",
        "colab": {
          "base_uri": "https://localhost:8080/",
          "height": 52
        }
      },
      "source": [
        "class Person:\n",
        "  def __init__(self, name, age):\n",
        "    self.name = name\n",
        "    self.age = age\n",
        "\n",
        "p1 = Person(\"John\", 36)\n",
        "\n",
        "print(p1.name)\n",
        "print(p1.age)"
      ],
      "execution_count": 0,
      "outputs": [
        {
          "output_type": "stream",
          "text": [
            "John\n",
            "36\n"
          ],
          "name": "stdout"
        }
      ]
    },
    {
      "cell_type": "markdown",
      "metadata": {
        "id": "Tc9JmZWm2FI_",
        "colab_type": "text"
      },
      "source": [
        "adding a method"
      ]
    },
    {
      "cell_type": "code",
      "metadata": {
        "id": "GcbqnfebtZQL",
        "colab_type": "code",
        "outputId": "40f55e62-1974-442d-9c87-090b1118d030",
        "colab": {
          "base_uri": "https://localhost:8080/",
          "height": 69
        }
      },
      "source": [
        "class Person:\n",
        "  def __init__(self, name, age):\n",
        "    self.name = name\n",
        "    self.age = age\n",
        "\n",
        "  def say(self, text):\n",
        "    print(text)\n",
        "\n",
        "p1 = Person(\"John\", 36)\n",
        "print(p1.name)\n",
        "print(p1.age)\n",
        "p1.say(\"Hello\")"
      ],
      "execution_count": 28,
      "outputs": [
        {
          "output_type": "stream",
          "text": [
            "John\n",
            "36\n",
            "Hello\n"
          ],
          "name": "stdout"
        }
      ]
    },
    {
      "cell_type": "markdown",
      "metadata": {
        "id": "_E_gy47-2MgX",
        "colab_type": "text"
      },
      "source": [
        "### Encapsulation & public, protected and private variables"
      ]
    },
    {
      "cell_type": "code",
      "metadata": {
        "id": "3Kfg1gYztchE",
        "colab_type": "code",
        "outputId": "c7ebb8f4-5afd-4ff7-d4f4-f416053c607e",
        "colab": {
          "base_uri": "https://localhost:8080/",
          "height": 218
        }
      },
      "source": [
        "class Person:\n",
        "  def __init__(self, name, age):\n",
        "    self._name = name\n",
        "    self.__age = age\n",
        "\n",
        "  def say(self, text):\n",
        "    print(text)\n",
        "\n",
        "p1 = Person(\"John\", 36)\n",
        "print(p1._name)\n",
        "print(p1.__age) # this is a private variable, there will be an error"
      ],
      "execution_count": 9,
      "outputs": [
        {
          "output_type": "stream",
          "text": [
            "John\n"
          ],
          "name": "stdout"
        },
        {
          "output_type": "error",
          "ename": "AttributeError",
          "evalue": "ignored",
          "traceback": [
            "\u001b[0;31m---------------------------------------------------------------------------\u001b[0m",
            "\u001b[0;31mAttributeError\u001b[0m                            Traceback (most recent call last)",
            "\u001b[0;32m<ipython-input-9-f5cde0764b82>\u001b[0m in \u001b[0;36m<module>\u001b[0;34m()\u001b[0m\n\u001b[1;32m      9\u001b[0m \u001b[0mp1\u001b[0m \u001b[0;34m=\u001b[0m \u001b[0mPerson\u001b[0m\u001b[0;34m(\u001b[0m\u001b[0;34m\"John\"\u001b[0m\u001b[0;34m,\u001b[0m \u001b[0;36m36\u001b[0m\u001b[0;34m)\u001b[0m\u001b[0;34m\u001b[0m\u001b[0;34m\u001b[0m\u001b[0m\n\u001b[1;32m     10\u001b[0m \u001b[0mprint\u001b[0m\u001b[0;34m(\u001b[0m\u001b[0mp1\u001b[0m\u001b[0;34m.\u001b[0m\u001b[0m_name\u001b[0m\u001b[0;34m)\u001b[0m\u001b[0;34m\u001b[0m\u001b[0;34m\u001b[0m\u001b[0m\n\u001b[0;32m---> 11\u001b[0;31m \u001b[0mprint\u001b[0m\u001b[0;34m(\u001b[0m\u001b[0mp1\u001b[0m\u001b[0;34m.\u001b[0m\u001b[0m__age\u001b[0m\u001b[0;34m)\u001b[0m \u001b[0;31m# this is a private variable, there will be an error\u001b[0m\u001b[0;34m\u001b[0m\u001b[0;34m\u001b[0m\u001b[0m\n\u001b[0m",
            "\u001b[0;31mAttributeError\u001b[0m: 'Person' object has no attribute '__age'"
          ]
        }
      ]
    },
    {
      "cell_type": "markdown",
      "metadata": {
        "id": "2_amfTJAosvH",
        "colab_type": "text"
      },
      "source": [
        "## Class Inheritance"
      ]
    },
    {
      "cell_type": "markdown",
      "metadata": {
        "id": "_nv9vRUhiVYc",
        "colab_type": "text"
      },
      "source": [
        "Student class inherits from Person. Calling the method say() on the subclass object calls its superclass method say()"
      ]
    },
    {
      "cell_type": "code",
      "metadata": {
        "id": "zCh3DcXCmVPh",
        "colab_type": "code",
        "colab": {
          "base_uri": "https://localhost:8080/",
          "height": 69
        },
        "outputId": "0ca36d88-70d6-490d-d238-cd0d889c44fb"
      },
      "source": [
        "class Person:\n",
        "  def __init__(self, name, age):\n",
        "    self.name = name\n",
        "    self.age = age\n",
        "\n",
        "  def say(self):\n",
        "    print(\"I am\", self.name)\n",
        "    \n",
        "class Student(Person):\n",
        "  def __init__(self, name, age, year):\n",
        "    super().__init__(name, age)\n",
        "    self.graduation_year = year\n",
        "\n",
        "person_x = Person(\"Alice Shrink\", 19)\n",
        "person_x.say()\n",
        "student_x = Student(\"Alice Shrink\", 19, 2019)\n",
        "student_x.say()\n",
        "print(student_x.graduation_year)"
      ],
      "execution_count": 9,
      "outputs": [
        {
          "output_type": "stream",
          "text": [
            "I am Alice Shrink\n",
            "I am Alice Shrink\n",
            "2019\n"
          ],
          "name": "stdout"
        }
      ]
    },
    {
      "cell_type": "markdown",
      "metadata": {
        "id": "xnAjZdjmtvfw",
        "colab_type": "text"
      },
      "source": [
        "## Overriding"
      ]
    },
    {
      "cell_type": "markdown",
      "metadata": {
        "id": "Iplv0Vqkjoca",
        "colab_type": "text"
      },
      "source": [
        "Replacing an inherited method with another having the same signature. \n",
        "\n",
        "Now add a method of the same name to the subclass Student"
      ]
    },
    {
      "cell_type": "code",
      "metadata": {
        "id": "lvJ-llKJjmnG",
        "colab_type": "code",
        "colab": {
          "base_uri": "https://localhost:8080/",
          "height": 51
        },
        "outputId": "869baced-0f93-465f-b634-0b44fccec96f"
      },
      "source": [
        "class Person:\n",
        "  def __init__(self, name, age):\n",
        "    self.name = name\n",
        "    self.age = age\n",
        "\n",
        "  def say(self):\n",
        "    print(\"I am\", self.name)\n",
        "    \n",
        "class Student(Person):\n",
        "  def __init__(self, name, age, year):\n",
        "    super().__init__(name, age)\n",
        "    self.graduation_year = year\n",
        "\n",
        "  def say(self):\n",
        "    print(\"I am\", self.name, \"from the class of\", self.graduation_year)\n",
        "\n",
        "person_x = Person(\"Alice Shrink\", 19)\n",
        "person_x.say()\n",
        "student_x = Student(\"Alice Shrink\", 19, 2019)\n",
        "student_x.say()"
      ],
      "execution_count": 39,
      "outputs": [
        {
          "output_type": "stream",
          "text": [
            "I am Alice Shrink\n",
            "I am Alice Shrink from the class of 2019\n"
          ],
          "name": "stdout"
        }
      ]
    },
    {
      "cell_type": "markdown",
      "metadata": {
        "id": "eaantPLsh39f",
        "colab_type": "text"
      },
      "source": [
        "Now what if the subclass has a variable of the same name as the base class, referring to the variable from the subclass object would refer to the variable of the subclass object."
      ]
    },
    {
      "cell_type": "code",
      "metadata": {
        "id": "LrC9pWB5hbp1",
        "colab_type": "code",
        "colab": {
          "base_uri": "https://localhost:8080/",
          "height": 51
        },
        "outputId": "ef09eb00-f16b-4fe2-a2d5-004ba109b4ab"
      },
      "source": [
        "class Person:\n",
        "  def __init__(self, name, age):\n",
        "    self.name = name\n",
        "    self.age = age\n",
        "\n",
        "  def say(self):\n",
        "    print(\"I am\", self.name)\n",
        "    \n",
        "class Student(Person):\n",
        "  def __init__(self, name, age, year):\n",
        "    super().__init__(name, age)\n",
        "    self.name = \"_\"\n",
        "    self.graduation_year = year\n",
        "\n",
        "  def say(self):\n",
        "    print(\"I am\", self.name, \"from the class of\", self.graduation_year)\n",
        "\n",
        "person_x = Person(\"Alice Shrink\", 19)\n",
        "person_x.say()\n",
        "student_x = Student(\"Alice Shrink\", 19, 2019)\n",
        "student_x.say()"
      ],
      "execution_count": 42,
      "outputs": [
        {
          "output_type": "stream",
          "text": [
            "I am Alice Shrink\n",
            "I am _ from the class of 2019\n"
          ],
          "name": "stdout"
        }
      ]
    },
    {
      "cell_type": "markdown",
      "metadata": {
        "id": "BhjkrE1kkYQm",
        "colab_type": "text"
      },
      "source": [
        "What if the subclass calls the methods in the superclass"
      ]
    },
    {
      "cell_type": "code",
      "metadata": {
        "id": "rHnhYXU3kXdK",
        "colab_type": "code",
        "colab": {
          "base_uri": "https://localhost:8080/",
          "height": 51
        },
        "outputId": "a07c40e4-4c61-48e9-e110-fa90dc5b08b3"
      },
      "source": [
        "class Person:\n",
        "  def __init__(self, name, age):\n",
        "    self.name = name\n",
        "    self.age = age\n",
        "\n",
        "  def say(self):\n",
        "    print(\"I am\", self.name)\n",
        "    \n",
        "class Student(Person):\n",
        "  def __init__(self, name, age, year):\n",
        "    super().__init__(name, age)\n",
        "    super().say()\n",
        "    self.graduation_year = year\n",
        "\n",
        "  def say(self):\n",
        "    print(\"I am\", self.name, \"from the class of\", self.graduation_year)\n",
        "\n",
        "student_x = Student(\"Alice Shrink\", 19, 2019)\n",
        "student_x.say()"
      ],
      "execution_count": 43,
      "outputs": [
        {
          "output_type": "stream",
          "text": [
            "I am Alice Shrink\n",
            "I am Alice Shrink from the class of 2019\n"
          ],
          "name": "stdout"
        }
      ]
    },
    {
      "cell_type": "markdown",
      "metadata": {
        "id": "3WqsuqAHlzhE",
        "colab_type": "text"
      },
      "source": [
        "## Overloading"
      ]
    },
    {
      "cell_type": "markdown",
      "metadata": {
        "id": "bXkDQluwq8b9",
        "colab_type": "text"
      },
      "source": [
        "You can do operator overloading, e.g."
      ]
    },
    {
      "cell_type": "code",
      "metadata": {
        "id": "E_lYfGHWqwOs",
        "colab_type": "code",
        "colab": {
          "base_uri": "https://localhost:8080/",
          "height": 34
        },
        "outputId": "b270dcb8-6ef3-4091-bdc4-11b83c7e5e8d"
      },
      "source": [
        "class complex: \n",
        "    def __init__(self, a, b): \n",
        "        self.a = a \n",
        "        self.b = b \n",
        "  \n",
        "     # adding two objects  \n",
        "    def __add__(self, other): \n",
        "        return self.a + other.a, self.b + other.b \n",
        "  \n",
        "    def __str__(self): \n",
        "        return self.a, self.b \n",
        "  \n",
        "x = complex(1, 2) \n",
        "y = complex(2, 3) \n",
        "z = x + y\n",
        "print(z) "
      ],
      "execution_count": 53,
      "outputs": [
        {
          "output_type": "stream",
          "text": [
            "(3, 5)\n"
          ],
          "name": "stdout"
        }
      ]
    },
    {
      "cell_type": "markdown",
      "metadata": {
        "id": "s9zKHS8umF45",
        "colab_type": "text"
      },
      "source": [
        "Other than operators, Python does not support overloading. Overloading can be added via pythonlangutil package. A series of @overload-decorated definitions must be followed by exactly one non-@overload-decorated definition (for the same function/method)"
      ]
    },
    {
      "cell_type": "code",
      "metadata": {
        "id": "5NP4LrbKlyz2",
        "colab_type": "code",
        "colab": {
          "base_uri": "https://localhost:8080/",
          "height": 51
        },
        "outputId": "414abbe7-e159-4af6-97b7-85bebf93d051"
      },
      "source": [
        "from pythonlangutil.overload import Overload, signature\n",
        "\n",
        "class Person:\n",
        "  def __init__(self, name, age):\n",
        "    self.name = name\n",
        "    self.age = age\n",
        "\n",
        "  @Overload\n",
        "  @signature()\n",
        "  def say(self):\n",
        "    print(\"I am\", self.name)\n",
        "\n",
        "  @say.overload\n",
        "  @signature(\"str\")\n",
        "  def say(self, text):\n",
        "    print(\"I am\", self.name, text)\n",
        "\n",
        "person_x = Person(\"Alice Shrink\", 19)\n",
        "person_x.say()\n",
        "person_x.say(\"I live in New York\")"
      ],
      "execution_count": 52,
      "outputs": [
        {
          "output_type": "stream",
          "text": [
            "I am Alice Shrink\n",
            "I am Alice Shrink I live in New York\n"
          ],
          "name": "stdout"
        }
      ]
    },
    {
      "cell_type": "code",
      "metadata": {
        "id": "T9zveh8tuwqn",
        "colab_type": "code",
        "colab": {}
      },
      "source": [
        "class Baseclass(Object): \n",
        "\tbody_of_base_class\n",
        "class DerivedClass(BaseClass): \n",
        "\tbody_of_derived_clas\n"
      ],
      "execution_count": 0,
      "outputs": []
    },
    {
      "cell_type": "markdown",
      "metadata": {
        "id": "Ux8Bq1JpyCWf",
        "colab_type": "text"
      },
      "source": [
        "## Class variables vs Instance variables"
      ]
    },
    {
      "cell_type": "markdown",
      "metadata": {
        "id": "oPalTgmoyFW9",
        "colab_type": "text"
      },
      "source": [
        "The class variables are shared across all the instances of the class whereas instance variables are unique to the instance"
      ]
    },
    {
      "cell_type": "code",
      "metadata": {
        "id": "0zjY0RKYzAFf",
        "colab_type": "code",
        "colab": {
          "base_uri": "https://localhost:8080/",
          "height": 51
        },
        "outputId": "2a71e55d-1e39-418d-abb1-bf5c58461a90"
      },
      "source": [
        "class Person:\n",
        "  count = 0\n",
        "  def __init__(self, name, age):\n",
        "    self.name = name\n",
        "    self.age = age\n",
        "    Person.count += 1\n",
        "\n",
        "x = Person(\"John\", 20)\n",
        "print(x.count)\n",
        "\n",
        "y = Person(\"David\", 20)\n",
        "print(y.count)"
      ],
      "execution_count": 8,
      "outputs": [
        {
          "output_type": "stream",
          "text": [
            "1\n",
            "2\n"
          ],
          "name": "stdout"
        }
      ]
    },
    {
      "cell_type": "code",
      "metadata": {
        "id": "J-Ax-Up3jAEo",
        "colab_type": "code",
        "colab": {
          "base_uri": "https://localhost:8080/",
          "height": 51
        },
        "outputId": "697c0e60-f502-466b-9138-750e0e2a12c9"
      },
      "source": [
        "class person:\n",
        "  count = 0\n",
        "  def __init__(self, name, age):\n",
        "    self.name = name\n",
        "    self.age = age\n",
        "    person.count += 1\n",
        "\n",
        "x = person(\"John\", 20)\n",
        "print(x.count)\n",
        "\n",
        "y = person(\"David\", 20)\n",
        "print(y.count)"
      ],
      "execution_count": 3,
      "outputs": [
        {
          "output_type": "stream",
          "text": [
            "1\n",
            "2\n"
          ],
          "name": "stdout"
        }
      ]
    },
    {
      "cell_type": "markdown",
      "metadata": {
        "id": "VkDq9EkExQ25",
        "colab_type": "text"
      },
      "source": [
        "## Precondition & Postcondition"
      ]
    },
    {
      "cell_type": "code",
      "metadata": {
        "id": "s9dezjL4YAL1",
        "colab_type": "code",
        "colab": {
          "base_uri": "https://localhost:8080/",
          "height": 34
        },
        "outputId": "9e4cf45c-363d-4e3a-9cd1-a86497ef9659"
      },
      "source": [
        "class Loan:\n",
        "  def __init__(self):\n",
        "    self._rate = 3.2\n",
        "\n",
        "  def getRate(self, credit_score):\n",
        "    \"\"\" Precondition: 300 <= Credit score <= 850\n",
        "        Postcondition: rate > 0\n",
        "    \"\"\"\n",
        "    if credit_score > 850 or credit_score < 300:\n",
        "      raise ValueError(\"Credit score is invalid\")\n",
        "\n",
        "    return self._rate\n",
        "\n",
        "mortgage = Loan()\n",
        "mortgage.getRate(840) "
      ],
      "execution_count": 16,
      "outputs": [
        {
          "output_type": "execute_result",
          "data": {
            "text/plain": [
              "3.2"
            ]
          },
          "metadata": {
            "tags": []
          },
          "execution_count": 16
        }
      ]
    }
  ]
}