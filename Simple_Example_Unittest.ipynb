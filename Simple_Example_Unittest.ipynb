{
  "nbformat": 4,
  "nbformat_minor": 0,
  "metadata": {
    "colab": {
      "name": "Simple Example Unittest.ipynb",
      "provenance": [],
      "collapsed_sections": [],
      "authorship_tag": "ABX9TyOQLnOwXgTethpd2vHyod9C",
      "include_colab_link": true
    },
    "kernelspec": {
      "name": "python3",
      "display_name": "Python 3"
    }
  },
  "cells": [
    {
      "cell_type": "markdown",
      "metadata": {
        "id": "view-in-github",
        "colab_type": "text"
      },
      "source": [
        "<a href=\"https://colab.research.google.com/github/waltz2u/oop/blob/master/Simple_Example_Unittest.ipynb\" target=\"_parent\"><img src=\"https://colab.research.google.com/assets/colab-badge.svg\" alt=\"Open In Colab\"/></a>"
      ]
    },
    {
      "cell_type": "markdown",
      "metadata": {
        "id": "RCyZVn42or4p",
        "colab_type": "text"
      },
      "source": [
        "Supposing that we have a very simple add function which return the sum of two integer.\n",
        "\n",
        "We create a unit test"
      ]
    },
    {
      "cell_type": "code",
      "metadata": {
        "id": "wEsQIfrgnAm7",
        "colab_type": "code",
        "outputId": "69b2e455-c1dc-4a5b-ab5f-8765fe0a63f4",
        "colab": {
          "base_uri": "https://localhost:8080/",
          "height": 104
        }
      },
      "source": [
        "import unittest\n",
        "\n",
        "class Solution(object):\n",
        "    def add(self, x, y):\n",
        "        return x + y\n",
        "\n",
        "class TestAdd(unittest.TestCase):\n",
        "    def test(self):\n",
        "        solution = Solution()\n",
        "        self.assertEqual(solution.add(3,4), 7, \"Should be 7\")\n",
        "\n",
        "if __name__ == '__main__':\n",
        "    # https://medium.com/@vladbezden/using-python-unittest-in-ipython-or-jupyter-732448724e31\n",
        "    unittest.main(argv=['first-arg-is-ignored'], exit=False)"
      ],
      "execution_count": 0,
      "outputs": [
        {
          "output_type": "stream",
          "text": [
            ".\n",
            "----------------------------------------------------------------------\n",
            "Ran 1 test in 0.001s\n",
            "\n",
            "OK\n"
          ],
          "name": "stderr"
        }
      ]
    }
  ]
}